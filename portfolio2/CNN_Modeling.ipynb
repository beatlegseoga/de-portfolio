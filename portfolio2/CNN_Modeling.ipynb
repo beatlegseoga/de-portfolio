{
  "nbformat": 4,
  "nbformat_minor": 0,
  "metadata": {
    "colab": {
      "name": "section4_project.ipynb",
      "provenance": []
    },
    "kernelspec": {
      "name": "python3",
      "display_name": "Python 3"
    },
    "language_info": {
      "name": "python"
    },
    "accelerator": "GPU"
  },
  "cells": [
    {
      "cell_type": "markdown",
      "source": [
        "#1. Data Preprocessing"
      ],
      "metadata": {
        "id": "PDKvegxYbWH6"
      }
    },
    {
      "cell_type": "code",
      "execution_count": 1,
      "metadata": {
        "id": "FrUJ7MeaMqf-"
      },
      "outputs": [],
      "source": [
        "from tensorflow.keras.utils import get_file\n",
        "\n",
        "BASE_PATH = 'https://storage.googleapis.com/quickdraw_dataset/full/binary/'\n",
        "animal_name = ['cat','elephant','giraffe','lion','panda','pig','rabbit','snake']\n",
        "path = list()\n",
        "for name in animal_name:\n",
        "  path.append(get_file(name, BASE_PATH + name + '.bin'))"
      ]
    },
    {
      "cell_type": "code",
      "source": [
        "len(path)"
      ],
      "metadata": {
        "colab": {
          "base_uri": "https://localhost:8080/"
        },
        "id": "MjVRhgwuedcN",
        "outputId": "600a9132-d6af-488e-db9a-165d3ee24eae"
      },
      "execution_count": 2,
      "outputs": [
        {
          "output_type": "execute_result",
          "data": {
            "text/plain": [
              "8"
            ]
          },
          "metadata": {},
          "execution_count": 2
        }
      ]
    },
    {
      "cell_type": "code",
      "source": [
        "import PIL\n",
        "from PIL import Image\n",
        "from PIL import ImageDraw\n",
        "from struct import unpack\n",
        "from sklearn.model_selection import train_test_split\n",
        "import tensorflow\n",
        "import matplotlib.pyplot as plt\n",
        "import json, glob\n",
        "import numpy as np"
      ],
      "metadata": {
        "id": "00OEI7fUeraP"
      },
      "execution_count": 3,
      "outputs": []
    },
    {
      "cell_type": "code",
      "source": [
        "def add_draw(path_list, x, y):\n",
        "    \"\"\"\n",
        "    데이터를 불러오는 역할을 하는 함수입니다.\n",
        "    \"\"\"    \n",
        "    label = 0\n",
        "    count = 70000\n",
        "    for path in path_list:\n",
        "      # 파일을 불러와 스케치를 하나하나 모읍니다.\n",
        "      # 스케치가 15바이트 헤더로 시작하기 때문이 이런 부분을 전처리하여 줍니다.\n",
        "      count = 70000\n",
        "      with open(path, 'rb') as f:\n",
        "          while True:\n",
        "              img = PIL.Image.new('L', (32, 32), 'white')\n",
        "              draw = ImageDraw.Draw(img)\n",
        "              header = f.read(15)\n",
        "              if len(header) != 15:\n",
        "                  break\n",
        "              \n",
        "              # 낙서는 x,y 좌표로 구성된 획(stroke) 목록으로 되어 있고, 각 좌표는 분리되어 저장되어 있습니다.\n",
        "              # 방금 위에서 생성한 ImageDraw 객체의 좌표 목록을 이용하기 위해 zip() 함수를 사용하여 합쳐주도록 합니다.\n",
        "              strokes, = unpack('H', f.read(2))\n",
        "              \n",
        "              for i in range(strokes):\n",
        "                  n_points, = unpack('H', f.read(2))\n",
        "                  fmt = str(n_points) + 'B'\n",
        "                  read_scaled = lambda: (p // 8 for \n",
        "                                        p in unpack(fmt, f.read(n_points)))\n",
        "                  points = [*zip(read_scaled(), read_scaled())]\n",
        "                  draw.line(points, fill=0, width=2)\n",
        "              img = tensorflow.keras.preprocessing.image.img_to_array(img)\n",
        "              x.append(img)\n",
        "              y.append(label)\n",
        "              count -= 1\n",
        "              if count <= 0:\n",
        "                break\n",
        "          label += 1\n",
        "    return x, y"
      ],
      "metadata": {
        "id": "EvEgZKZCfMd0"
      },
      "execution_count": 4,
      "outputs": []
    },
    {
      "cell_type": "code",
      "source": [
        "x = []\n",
        "y = []\n",
        "x, y = add_draw(path, x, y)"
      ],
      "metadata": {
        "id": "R5gp3gpYhpuD"
      },
      "execution_count": 5,
      "outputs": []
    },
    {
      "cell_type": "code",
      "source": [
        "x = np.asarray(x) / 255\n",
        "y = np.asarray(y)"
      ],
      "metadata": {
        "id": "zH_aClKamdfS"
      },
      "execution_count": 6,
      "outputs": []
    },
    {
      "cell_type": "code",
      "source": [
        "plt.imshow(x[111000][:,:,0], cmap='gray')\n",
        "print(animal_name[y[111000]])"
      ],
      "metadata": {
        "colab": {
          "base_uri": "https://localhost:8080/",
          "height": 284
        },
        "id": "FZ5vmJaVmpPk",
        "outputId": "f0b62b68-6ecf-409a-acd3-8f4d8a2303b6"
      },
      "execution_count": 7,
      "outputs": [
        {
          "output_type": "stream",
          "name": "stdout",
          "text": [
            "elephant\n"
          ]
        },
        {
          "output_type": "display_data",
          "data": {
            "text/plain": [
              "<Figure size 432x288 with 1 Axes>"
            ],
            "image/png": "[encoded data removed]"
          },
          "metadata": {
            "needs_background": "light"
          }
        }
      ]
    },
    {
      "cell_type": "markdown",
      "source": [
        "#2. CNN Modeling"
      ],
      "metadata": {
        "id": "ZCI1coP0r3ut"
      }
    },
    {
      "cell_type": "code",
      "source": [
        "X_train, X_test, y_train, y_test = train_test_split(x, y, train_size=0.85, stratify=y)"
      ],
      "metadata": {
        "id": "am34HUJCr3HO"
      },
      "execution_count": 8,
      "outputs": []
    },
    {
      "cell_type": "code",
      "source": [
        "plt.imshow(X_train[191][:,:,0], cmap='gray')\n",
        "print(animal_name[y_train[191]])"
      ],
      "metadata": {
        "colab": {
          "base_uri": "https://localhost:8080/",
          "height": 284
        },
        "id": "_tRaFyDqsIFg",
        "outputId": "69a2470d-c9f5-49fb-a4aa-84fcca0f0cf2"
      },
      "execution_count": 17,
      "outputs": [
        {
          "output_type": "stream",
          "name": "stdout",
          "text": [
            "snake\n"
          ]
        },
        {
          "output_type": "display_data",
          "data": {
            "text/plain": [
              "<Figure size 432x288 with 1 Axes>"
            ],
            "image/png": "[encoded data removed]"
          },
          "metadata": {
            "needs_background": "light"
          }
        }
      ]
    },
    {
      "cell_type": "code",
      "source": [
        "from tensorflow.keras.models import Sequential\n",
        "from tensorflow.keras.layers import Dense, Conv2D, MaxPooling2D, Flatten\n",
        "\n",
        "model = Sequential()\n",
        "model.add(Conv2D(16, (3,3), padding='same', activation='relu'))\n",
        "model.add(MaxPooling2D(2,2))\n",
        "model.add(Conv2D(16, (3,3), padding='same', activation='relu'))\n",
        "model.add(MaxPooling2D(2,2))\n",
        "model.add(Conv2D(32, (3,3), padding='same', activation='relu'))\n",
        "model.add(Flatten())\n",
        "model.add(Dense(128, activation='relu'))\n",
        "model.add(Dense(len(animal_name), activation='softmax'))\n",
        "\n",
        "model.compile(optimizer='adam',\n",
        "              loss='sparse_categorical_crossentropy',\n",
        "              metrics=['accuracy'])"
      ],
      "metadata": {
        "id": "CwfgqEHKs9Ci"
      },
      "execution_count": 10,
      "outputs": []
    },
    {
      "cell_type": "code",
      "source": [
        "model.fit(X_train, y_train,\n",
        "          batch_size=128,\n",
        "          validation_data=(X_test, y_test),\n",
        "          epochs=100,\n",
        "          callbacks=[tensorflow.keras.callbacks.EarlyStopping(monitor='val_loss', patience=5)]\n",
        ")"
      ],
      "metadata": {
        "colab": {
          "base_uri": "https://localhost:8080/"
        },
        "id": "2-nycZe6tG4L",
        "outputId": "3e2f2c28-b1b3-44a7-aec8-5026ef2e514c"
      },
      "execution_count": 11,
      "outputs": [
        {
          "output_type": "stream",
          "name": "stdout",
          "text": [
            "Epoch 1/100\n",
            "3719/3719 [==============================] - 27s 5ms/step - loss: 0.6019 - accuracy: 0.8004 - val_loss: 0.4452 - val_accuracy: 0.8543\n",
            "Epoch 2/100\n",
            "3719/3719 [==============================] - 17s 4ms/step - loss: 0.3989 - accuracy: 0.8694 - val_loss: 0.3851 - val_accuracy: 0.8741\n",
            "Epoch 3/100\n",
            "3719/3719 [==============================] - 18s 5ms/step - loss: 0.3484 - accuracy: 0.8855 - val_loss: 0.3720 - val_accuracy: 0.8796\n",
            "Epoch 4/100\n",
            "3719/3719 [==============================] - 17s 4ms/step - loss: 0.3185 - accuracy: 0.8949 - val_loss: 0.3581 - val_accuracy: 0.8833\n",
            "Epoch 5/100\n",
            "3719/3719 [==============================] - 18s 5ms/step - loss: 0.2969 - accuracy: 0.9018 - val_loss: 0.3542 - val_accuracy: 0.8884\n",
            "Epoch 6/100\n",
            "3719/3719 [==============================] - 17s 4ms/step - loss: 0.2795 - accuracy: 0.9071 - val_loss: 0.3557 - val_accuracy: 0.8872\n",
            "Epoch 7/100\n",
            "3719/3719 [==============================] - 16s 4ms/step - loss: 0.2646 - accuracy: 0.9119 - val_loss: 0.3543 - val_accuracy: 0.8880\n",
            "Epoch 8/100\n",
            "3719/3719 [==============================] - 18s 5ms/step - loss: 0.2511 - accuracy: 0.9159 - val_loss: 0.3691 - val_accuracy: 0.8860\n",
            "Epoch 9/100\n",
            "3719/3719 [==============================] - 18s 5ms/step - loss: 0.2396 - accuracy: 0.9193 - val_loss: 0.3732 - val_accuracy: 0.8844\n",
            "Epoch 10/100\n",
            "3719/3719 [==============================] - 18s 5ms/step - loss: 0.2274 - accuracy: 0.9233 - val_loss: 0.3771 - val_accuracy: 0.8848\n"
          ]
        },
        {
          "output_type": "execute_result",
          "data": {
            "text/plain": [
              "<keras.callbacks.History at 0x7fb609b97050>"
            ]
          },
          "metadata": {},
          "execution_count": 11
        }
      ]
    },
    {
      "cell_type": "code",
      "source": [
        "save_path = '/content/model.h5'\n",
        "model.save(save_path)"
      ],
      "metadata": {
        "id": "cVFhVqFd1FJZ"
      },
      "execution_count": 18,
      "outputs": []
    }
  ]
}