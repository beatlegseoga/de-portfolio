{
 "cells": [
  {
   "cell_type": "code",
   "execution_count": 1,
   "id": "6efe043a-aa24-4420-b915-6956515ce092",
   "metadata": {
    "execution": {
     "iopub.execute_input": "2023-11-27T06:53:32.560750Z",
     "iopub.status.busy": "2023-11-27T06:53:32.560451Z",
     "iopub.status.idle": "2023-11-27T06:54:19.430407Z",
     "shell.execute_reply": "2023-11-27T06:54:19.429309Z",
     "shell.execute_reply.started": "2023-11-27T06:53:32.560726Z"
    },
    "tags": []
   },
   "outputs": [
    {
     "data": {
      "application/vnd.jupyter.widget-view+json": {
       "model_id": "ba04a9c1ee26462e902dca6068bc2c09",
       "version_major": 2,
       "version_minor": 0
      },
      "text/plain": [
       "VBox()"
      ]
     },
     "metadata": {},
     "output_type": "display_data"
    },
    {
     "name": "stdout",
     "output_type": "stream",
     "text": [
      "Starting Spark application\n"
     ]
    },
    {
     "data": {
      "text/html": [
       "<table>\n<tbody><tr><th>ID</th><th>YARN Application ID</th><th>Kind</th><th>State</th><th>Spark UI</th><th>Driver log</th><th>User</th><th>Current session?</th></tr><tr><td>8</td><td>application_1701051468713_0009</td><td>spark</td><td>idle</td><td><a target=\"_blank\" href=\"http://ip-10-102-21-178.ap-northeast-2.compute.internal:20888/proxy/application_1701051468713_0009/\" class=\"emr-proxy-link j-NGA8O1ANK5V9 application_1701051468713_0009\" emr-resource=\"j-NGA8O1ANK5V9\n\" application-id=\"application_1701051468713_0009\">Link</a></td><td><a target=\"_blank\" href=\"http://ip-10-102-21-201.ap-northeast-2.compute.internal:8042/node/containerlogs/container_1701051468713_0009_01_000001/livy\">Link</a></td><td>None</td><td>✔</td></tr></tbody></table>"
      ],
      "text/plain": [
       "<IPython.core.display.HTML object>"
      ]
     },
     "metadata": {},
     "output_type": "display_data"
    },
    {
     "data": {
      "application/vnd.jupyter.widget-view+json": {
       "model_id": "",
       "version_major": 2,
       "version_minor": 0
      },
      "text/plain": [
       "FloatProgress(value=0.0, bar_style='info', description='Progress:', layout=Layout(height='25px', width='50%'),…"
      ]
     },
     "metadata": {},
     "output_type": "display_data"
    },
    {
     "name": "stdout",
     "output_type": "stream",
     "text": [
      "SparkSession available as 'spark'.\n"
     ]
    },
    {
     "data": {
      "application/vnd.jupyter.widget-view+json": {
       "model_id": "",
       "version_major": 2,
       "version_minor": 0
      },
      "text/plain": [
       "FloatProgress(value=0.0, bar_style='info', description='Progress:', layout=Layout(height='25px', width='50%'),…"
      ]
     },
     "metadata": {},
     "output_type": "display_data"
    },
    {
     "name": "stdout",
     "output_type": "stream",
     "text": [
      "import org.apache.hadoop.fs.{FileSystem, Path}\n",
      "import org.apache.spark.sql.functions._\n",
      "import org.apache.spark.sql.types.{StructType, StructField, StringType, ArrayType}\n"
     ]
    }
   ],
   "source": [
    "import org.apache.hadoop.fs.{FileSystem, Path}\n",
    "import org.apache.spark.sql.functions._\n",
    "import org.apache.spark.sql.types.{StructType, StructField, StringType, ArrayType}"
   ]
  },
  {
   "cell_type": "code",
   "execution_count": 2,
   "id": "70f1245a-f2c3-4bbc-a53c-8af883e8f531",
   "metadata": {
    "execution": {
     "iopub.execute_input": "2023-11-27T06:55:10.971273Z",
     "iopub.status.busy": "2023-11-27T06:55:10.971051Z",
     "iopub.status.idle": "2023-11-27T06:55:16.261065Z",
     "shell.execute_reply": "2023-11-27T06:55:16.260463Z",
     "shell.execute_reply.started": "2023-11-27T06:55:10.971251Z"
    },
    "tags": []
   },
   "outputs": [
    {
     "data": {
      "application/vnd.jupyter.widget-view+json": {
       "model_id": "bb55148cc83a46989c0a21e124ec40dc",
       "version_major": 2,
       "version_minor": 0
      },
      "text/plain": [
       "VBox()"
      ]
     },
     "metadata": {},
     "output_type": "display_data"
    },
    {
     "data": {
      "application/vnd.jupyter.widget-view+json": {
       "model_id": "",
       "version_major": 2,
       "version_minor": 0
      },
      "text/plain": [
       "FloatProgress(value=0.0, bar_style='info', description='Progress:', layout=Layout(height='25px', width='50%'),…"
      ]
     },
     "metadata": {},
     "output_type": "display_data"
    },
    {
     "name": "stdout",
     "output_type": "stream",
     "text": [
      "schema1: org.apache.spark.sql.types.StructType = StructType(StructField(anonymousId,StringType,true),StructField(context,StringType,true),StructField(messageId,StringType,true),StructField(properties,StringType,true),StructField(event,StringType,true),StructField(timestamp,StringType,true),StructField(type,StringType,true),StructField(userId,StringType,true))\n",
      "schema2: org.apache.spark.sql.types.StructType = StructType(StructField(userAgent,StringType,true),StructField(ip,StringType,true),StructField(locale,StringType,true),StructField(page,StringType,true))\n",
      "schema3: org.apache.spark.sql.types.StructType = StructType(StructField(url,StringType,true))\n",
      "schema4: org.apache.spark.sql.types.StructType = StructType(StructField(path,StringType,true),StructField(page,StringType,true),StructField(button,StringType,true),StructField(action,StringType,true),StructField(properties,StringType,true))\n",
      "schema5: org.apache.spark.sql.types.StructType = StructType(StructField(name,StringType,true),StructField(hospital,ArrayType(StringType,true),true))\n",
      "schema6: org.apache.spark.sql.types.StructType = StructType(StructField(hospitalId,StringType,true),StructField(pageName,StringType,true),StructField(routeName,StringType,true),StructField(to,StringType,true))\n"
     ]
    }
   ],
   "source": [
    "val schema1 = StructType(Array(\n",
    "    StructField(\"anonymousId\", StringType, true),\n",
    "    StructField(\"context\", StringType, true),\n",
    "    StructField(\"messageId\", StringType, true),\n",
    "    StructField(\"properties\", StringType, true),\n",
    "    StructField(\"event\", StringType, true),\n",
    "    StructField(\"timestamp\", StringType, true),\n",
    "    StructField(\"type\", StringType, true),\n",
    "    StructField(\"userId\", StringType, true)\n",
    "))\n",
    "\n",
    "val schema2 = StructType(Array(\n",
    "    StructField(\"userAgent\", StringType, true),\n",
    "    StructField(\"ip\", StringType, true),\n",
    "    StructField(\"locale\", StringType, true),\n",
    "    StructField(\"page\", StringType, true)\n",
    "))\n",
    "\n",
    "val schema3 = StructType(Array(\n",
    "    StructField(\"url\", StringType, true)\n",
    "))\n",
    "\n",
    "val schema4 = StructType(Array(\n",
    "    StructField(\"path\", StringType, true),\n",
    "    StructField(\"page\", StringType, true),\n",
    "    StructField(\"button\", StringType, true),\n",
    "    StructField(\"action\", StringType, true),\n",
    "    StructField(\"properties\", StringType, true)\n",
    "))\n",
    "\n",
    "val schema5 = StructType(Array(\n",
    "    StructField(\"name\", StringType, true),\n",
    "    StructField(\"hospital\", ArrayType(StringType), true)\n",
    "))\n",
    "\n",
    "val schema6 = StructType(Array(\n",
    "    StructField(\"hospitalId\", StringType, true),\n",
    "    StructField(\"pageName\", StringType, true),\n",
    "    StructField(\"routeName\", StringType, true),\n",
    "    StructField(\"to\", StringType, true)\n",
    "))"
   ]
  },
  {
   "cell_type": "code",
   "execution_count": 27,
   "id": "651cb185-d179-4969-bcd8-e4dc09aeb626",
   "metadata": {
    "execution": {
     "iopub.execute_input": "2023-11-27T08:22:05.340590Z",
     "iopub.status.busy": "2023-11-27T08:22:05.340347Z",
     "iopub.status.idle": "2023-11-27T08:22:06.603506Z",
     "shell.execute_reply": "2023-11-27T08:22:06.602841Z",
     "shell.execute_reply.started": "2023-11-27T08:22:05.340566Z"
    },
    "tags": []
   },
   "outputs": [
    {
     "data": {
      "application/vnd.jupyter.widget-view+json": {
       "model_id": "e3e0584762a54232a434c6cf087f07f9",
       "version_major": 2,
       "version_minor": 0
      },
      "text/plain": [
       "VBox()"
      ]
     },
     "metadata": {},
     "output_type": "display_data"
    },
    {
     "data": {
      "application/vnd.jupyter.widget-view+json": {
       "model_id": "",
       "version_major": 2,
       "version_minor": 0
      },
      "text/plain": [
       "FloatProgress(value=0.0, bar_style='info', description='Progress:', layout=Layout(height='25px', width='50%'),…"
      ]
     },
     "metadata": {},
     "output_type": "display_data"
    },
    {
     "name": "stdout",
     "output_type": "stream",
     "text": [
      "src_to_segment_log: (df: org.apache.spark.sql.DataFrame)org.apache.spark.sql.DataFrame\n"
     ]
    }
   ],
   "source": [
    "def src_to_segment_log(df: org.apache.spark.sql.DataFrame) : org.apache.spark.sql.DataFrame = {\n",
    "    val dF = df.withColumn(\"schema1\", from_json(col(\"value\"), schema1)).\n",
    "        select(col(\"schema1.*\"), col(\"partition_0\")).\n",
    "        withColumn(\"schema2\", from_json(col(\"context\"), schema2)).\n",
    "        select(col(\"anonymousId\"), col(\"schema2.*\"), col(\"context\"), col(\"messageId\"), col(\"properties\"), col(\"event\")\n",
    "                , col(\"timestamp\"), col(\"type\"), col(\"userId\"), col(\"partition_0\")).\n",
    "        withColumn(\"schema3\", from_json(col(\"page\"), schema3)).\n",
    "        withColumn(\"context_useragent\", col(\"userAgent\")).\n",
    "        withColumn(\"context_ip\", col(\"ip\")).\n",
    "        withColumn(\"context_locale\", col(\"locale\")).\n",
    "        withColumn(\"properties_\", col(\"properties\")).\n",
    "        select(col(\"anonymousId\"), col(\"context_useragent\"), col(\"context_ip\"), col(\"context_locale\"), col(\"schema3.*\"), col(\"context\")\n",
    "                , col(\"messageId\"), col(\"properties_\"), col(\"event\"), col(\"timestamp\"), col(\"type\"), col(\"userId\"), col(\"partition_0\")).\n",
    "        withColumn(\"schema4\", from_json(col(\"properties_\"), schema4)).\n",
    "        withColumn(\"context_page_url\", col(\"url\")).\n",
    "        select(col(\"anonymousId\"), col(\"context_useragent\"), col(\"context_ip\"), col(\"context_locale\"), col(\"context_page_url\"), col(\"context\")\n",
    "                , col(\"messageId\"), col(\"schema4.*\"), col(\"properties_\"), col(\"event\"), col(\"timestamp\"), col(\"type\"), col(\"userId\"), col(\"partition_0\")).\n",
    "        withColumn(\"schema5\", from_json(col(\"button\"), schema5)).\n",
    "        withColumn(\"properties_path\", col(\"path\")).\n",
    "        withColumn(\"properties_page\", col(\"page\")).\n",
    "        select(col(\"anonymousId\"), col(\"context_useragent\"), col(\"context_ip\"), col(\"context_locale\"), col(\"context_page_url\"), col(\"context\")\n",
    "                , col(\"messageId\"), col(\"properties_path\"), col(\"properties_page\"), col(\"schema5.*\"), col(\"action\"), col(\"properties\")\n",
    "                , col(\"properties_\"), col(\"event\"), col(\"timestamp\"), col(\"type\"), col(\"userId\"), col(\"partition_0\")).\n",
    "        withColumn(\"properties_button_hospital_num\", col(\"hospital\").getItem(0)).\n",
    "        withColumn(\"properties_button_hospital_name\", col(\"hospital\").getItem(1)).\n",
    "        withColumn(\"properties_button_name\", col(\"name\")).\n",
    "        drop(col(\"button\"), col(\"hospital\"), col(\"name\")).\n",
    "        withColumn(\"schema5\", from_json(col(\"action\"), schema5)).\n",
    "        select(col(\"anonymousId\"), col(\"context_useragent\"), col(\"context_ip\"), col(\"context_locale\"), col(\"context_page_url\"), col(\"context\")\n",
    "                , col(\"messageId\"), col(\"properties_path\"), col(\"properties_page\"), col(\"properties_button_name\")\n",
    "                , col(\"properties_button_hospital_num\"), col(\"properties_button_hospital_name\"), col(\"schema5.*\"), col(\"properties\")\n",
    "                , col(\"properties_\"), col(\"event\"), col(\"timestamp\"), col(\"type\"), col(\"userId\"), col(\"partition_0\")).\n",
    "        withColumn(\"properties_action_hospital_id\", col(\"hospital\").getItem(0)).\n",
    "        withColumn(\"properties_action_hospital_name\", col(\"hospital\").getItem(1)).\n",
    "        withColumn(\"properties_action_name\", col(\"name\")).\n",
    "        drop(col(\"action\"), col(\"hospital\"), col(\"name\")).\n",
    "        withColumn(\"schema6\", from_json(col(\"properties\"), schema6)).\n",
    "        select(col(\"anonymousId\"), col(\"context_useragent\"), col(\"context_ip\"), col(\"context_locale\"), col(\"context_page_url\"), col(\"context\")\n",
    "                , col(\"messageId\"), col(\"properties_path\"), col(\"properties_page\"), col(\"properties_button_name\"), col(\"properties_action_name\")\n",
    "                , col(\"properties_action_hospital_id\"), col(\"properties_action_hospital_name\")\n",
    "                , col(\"properties_button_hospital_num\"), col(\"properties_button_hospital_name\")\n",
    "                , col(\"schema6.*\"), col(\"properties_\"), col(\"event\"), col(\"timestamp\"), col(\"type\"), col(\"userId\"), col(\"partition_0\")).\n",
    "        withColumn(\"properties_properties_hospitalid\", col(\"hospitalId\")).withColumn(\"properties_properties_pagename\", col(\"pageName\")).\n",
    "        withColumn(\"properties_properties_routename\", col(\"routeName\")).withColumn(\"properties_properties_to\", col(\"to\")).\n",
    "        withColumn(\"properties\", col(\"properties_\")).\n",
    "        drop(col(\"hospitalId\"), col(\"pageName\"), col(\"routeName\"), col(\"to\"), col(\"properties_\")).\n",
    "        withColumn(\"timestamp\", to_timestamp(col(\"timestamp\"), \"yyyy-MM-dd'T'HH:mm:ss.SSS'Z'\")).\n",
    "        withColumn(\"yw\", concat(year(date_add(from_utc_timestamp(col(\"timestamp\"), \"Asia/Seoul\"), 1)), lit(\"-\")\n",
    "                                 , lpad(weekofyear(date_add(from_utc_timestamp(col(\"timestamp\"), \"Asia/Seoul\"), 1)), 2, \"0\")))\n",
    "    \n",
    "    dF.createOrReplaceTempView(\"dF\")\n",
    "    val df_segment_log = spark.sql(f\"\"\"\n",
    "        SELECT anonymousId, context_useragent, context_ip, context_locale, context_page_url, context,\n",
    "        messageId, properties_path, properties_page, properties_button_name, properties_action_name, properties_action_hospital_id,\n",
    "        properties_action_hospital_name, properties_button_hospital_num, properties_button_hospital_name, properties_properties_hospitalid,\n",
    "        properties_properties_pagename, properties_properties_routename, properties_properties_to, properties,\n",
    "        event, from_utc_timestamp(timestamp, 'Asia/Seoul') AS timestamp,\n",
    "        yw,\n",
    "        date_add(date_trunc('week', date_add(from_utc_timestamp(timestamp, 'Asia/Seoul'), 1)), -1) AS ywd,\n",
    "        date_format(from_utc_timestamp(timestamp, 'Asia/Seoul'), 'yyyy-MM') AS ym,\n",
    "        date_format(from_utc_timestamp(timestamp, 'Asia/Seoul'), 'yyyy-MM-dd') AS ymd,\n",
    "        type, userId, partition_0\n",
    "        FROM dF\n",
    "    \"\"\")\n",
    "    \n",
    "    return df_segment_log\n",
    "}"
   ]
  },
  {
   "cell_type": "code",
   "execution_count": 9,
   "id": "53365509-7494-4f42-a380-93f6a28ce344",
   "metadata": {
    "execution": {
     "iopub.execute_input": "2023-11-27T07:06:35.015339Z",
     "iopub.status.busy": "2023-11-27T07:06:35.015117Z",
     "iopub.status.idle": "2023-11-27T07:06:35.776133Z",
     "shell.execute_reply": "2023-11-27T07:06:35.775202Z",
     "shell.execute_reply.started": "2023-11-27T07:06:35.015315Z"
    },
    "tags": []
   },
   "outputs": [
    {
     "data": {
      "application/vnd.jupyter.widget-view+json": {
       "model_id": "9ec5022c78714bd9b22b64a93dde05ea",
       "version_major": 2,
       "version_minor": 0
      },
      "text/plain": [
       "VBox()"
      ]
     },
     "metadata": {},
     "output_type": "display_data"
    },
    {
     "data": {
      "application/vnd.jupyter.widget-view+json": {
       "model_id": "",
       "version_major": 2,
       "version_minor": 0
      },
      "text/plain": [
       "FloatProgress(value=0.0, bar_style='info', description='Progress:', layout=Layout(height='25px', width='50%'),…"
      ]
     },
     "metadata": {},
     "output_type": "display_data"
    },
    {
     "name": "stdout",
     "output_type": "stream",
     "text": [
      "segment_log_to_segment_log_session: (df_segment_log: org.apache.spark.sql.DataFrame)org.apache.spark.sql.DataFrame\n"
     ]
    }
   ],
   "source": [
    "def segment_log_to_segment_log_session(df_segment_log: org.apache.spark.sql.DataFrame) : org.apache.spark.sql.DataFrame= {\n",
    "    df_segment_log.createOrReplaceTempView(\"df_segment_log\")\n",
    "    \n",
    "    val df_segment_log_session = spark.sql(\"\"\"\n",
    "        SELECT\n",
    "            event.anonymousid || '-' || row_number() over(partition by event.anonymousid order by event.timestamp) as session_id,\n",
    "            event.anonymousid,\n",
    "            event.timestamp as session_start_at,\n",
    "            lead(timestamp) over(partition by event.anonymousid order by event.timestamp) as next_session_start_at\n",
    "        FROM (\n",
    "            SELECT\n",
    "                e.anonymousid,\n",
    "                e.timestamp,\n",
    "                DATEDIFF(minute, LAG(e.timestamp) OVER(PARTITION BY e.anonymousid ORDER BY e.timestamp), e.timestamp) AS inactivity_time\n",
    "            FROM df_segment_log AS e) as event\n",
    "        WHERE (event.inactivity_time > 30 OR event.inactivity_time is null)\n",
    "    \"\"\")\n",
    "    \n",
    "    return df_segment_log_session\n",
    "}"
   ]
  },
  {
   "cell_type": "code",
   "execution_count": 10,
   "id": "18d3e332-c4e0-4dde-aa7d-887eeb78b060",
   "metadata": {
    "execution": {
     "iopub.execute_input": "2023-11-27T07:06:54.280796Z",
     "iopub.status.busy": "2023-11-27T07:06:54.280581Z",
     "iopub.status.idle": "2023-11-27T07:06:55.544652Z",
     "shell.execute_reply": "2023-11-27T07:06:55.543954Z",
     "shell.execute_reply.started": "2023-11-27T07:06:54.280772Z"
    },
    "tags": []
   },
   "outputs": [
    {
     "data": {
      "application/vnd.jupyter.widget-view+json": {
       "model_id": "2155c9389dec4c66a9916ea06ff323fe",
       "version_major": 2,
       "version_minor": 0
      },
      "text/plain": [
       "VBox()"
      ]
     },
     "metadata": {},
     "output_type": "display_data"
    },
    {
     "data": {
      "application/vnd.jupyter.widget-view+json": {
       "model_id": "",
       "version_major": 2,
       "version_minor": 0
      },
      "text/plain": [
       "FloatProgress(value=0.0, bar_style='info', description='Progress:', layout=Layout(height='25px', width='50%'),…"
      ]
     },
     "metadata": {},
     "output_type": "display_data"
    },
    {
     "name": "stdout",
     "output_type": "stream",
     "text": [
      "get_s3_directories: (s3_uri: String)Array[String]\n"
     ]
    }
   ],
   "source": [
    "def get_s3_directories(s3_uri: String) : Array[String] = {\n",
    "    val fs = FileSystem.get(new java.net.URI(s3_uri), spark.sparkContext.hadoopConfiguration)\n",
    "\n",
    "    val directories = fs.listStatus(new Path(s3_uri)).filter(_.isDirectory).map(_.getPath.toString)\n",
    "    \n",
    "    return directories\n",
    "}"
   ]
  },
  {
   "cell_type": "code",
   "execution_count": 33,
   "id": "b8d536f7-756e-4bec-a3fa-f34dfbcc270f",
   "metadata": {
    "execution": {
     "iopub.execute_input": "2023-11-27T09:06:38.290603Z",
     "iopub.status.busy": "2023-11-27T09:06:38.290382Z",
     "iopub.status.idle": "2023-11-27T09:06:39.068567Z",
     "shell.execute_reply": "2023-11-27T09:06:39.067927Z",
     "shell.execute_reply.started": "2023-11-27T09:06:38.290580Z"
    },
    "tags": []
   },
   "outputs": [
    {
     "data": {
      "application/vnd.jupyter.widget-view+json": {
       "model_id": "6232081938824c16acd6eb106f43790d",
       "version_major": 2,
       "version_minor": 0
      },
      "text/plain": [
       "VBox()"
      ]
     },
     "metadata": {},
     "output_type": "display_data"
    },
    {
     "data": {
      "application/vnd.jupyter.widget-view+json": {
       "model_id": "",
       "version_major": 2,
       "version_minor": 0
      },
      "text/plain": [
       "FloatProgress(value=0.0, bar_style='info', description='Progress:', layout=Layout(height='25px', width='50%'),…"
      ]
     },
     "metadata": {},
     "output_type": "display_data"
    },
    {
     "name": "stdout",
     "output_type": "stream",
     "text": [
      "save_to_redshift: (df: org.apache.spark.sql.DataFrame, table_name: String)Unit\n"
     ]
    }
   ],
   "source": [
    "def save_to_redshift(df: org.apache.spark.sql.DataFrame, table_name: String) = {\n",
    "    val str_jdbc_url=\"jdbc:redshift://fastcampus-workgroup.515958955371.ap-northeast-2.redshift-serverless.amazonaws.com:5439/dev?user=team04&password=0xHBH5VX\"\n",
    "    val str_s3_path=\"s3://emr-data-sync/team04/redshift_tempdir\"\n",
    "    \n",
    "    df.write.mode(\"append\").\n",
    "    format(\"io.github.spark_redshift_community.spark.redshift\").\n",
    "    option(\"url\", str_jdbc_url).option(\"dbtable\", table_name).\n",
    "    option(\"forward_spark_s3_credentials\", \"true\").\n",
    "    option(\"tempdir\", str_s3_path).save()\n",
    "}"
   ]
  },
  {
   "cell_type": "code",
   "execution_count": 34,
   "id": "0cec280c-9f02-4290-9f4b-1166c4bafff6",
   "metadata": {
    "execution": {
     "iopub.execute_input": "2023-11-27T09:06:50.043888Z",
     "iopub.status.busy": "2023-11-27T09:06:50.043664Z",
     "iopub.status.idle": "2023-11-27T09:15:55.120760Z",
     "shell.execute_reply": "2023-11-27T09:15:55.120108Z",
     "shell.execute_reply.started": "2023-11-27T09:06:50.043865Z"
    },
    "tags": []
   },
   "outputs": [
    {
     "data": {
      "application/vnd.jupyter.widget-view+json": {
       "model_id": "86c95abe4cc9482bb9bde1e3ce56632b",
       "version_major": 2,
       "version_minor": 0
      },
      "text/plain": [
       "VBox()"
      ]
     },
     "metadata": {},
     "output_type": "display_data"
    },
    {
     "data": {
      "application/vnd.jupyter.widget-view+json": {
       "model_id": "",
       "version_major": 2,
       "version_minor": 0
      },
      "text/plain": [
       "FloatProgress(value=0.0, bar_style='info', description='Progress:', layout=Layout(height='25px', width='50%'),…"
      ]
     },
     "metadata": {},
     "output_type": "display_data"
    },
    {
     "name": "stdout",
     "output_type": "stream",
     "text": [
      "bucket: String = emr-data-sync/\n",
      "key: String = segment-logs/61pktWj9yLj7tBBUBPUCCf\n",
      "directories: Array[String] = Array(s3a://emr-data-sync/segment-logs/61pktWj9yLj7tBBUBPUCCf/1684454400000, s3a://emr-data-sync/segment-logs/61pktWj9yLj7tBBUBPUCCf/1684540800000, s3a://emr-data-sync/segment-logs/61pktWj9yLj7tBBUBPUCCf/1684627200000, s3a://emr-data-sync/segment-logs/61pktWj9yLj7tBBUBPUCCf/1684713600000, s3a://emr-data-sync/segment-logs/61pktWj9yLj7tBBUBPUCCf/1684800000000, s3a://emr-data-sync/segment-logs/61pktWj9yLj7tBBUBPUCCf/1684886400000, s3a://emr-data-sync/segment-logs/61pktWj9yLj7tBBUBPUCCf/1684972800000, s3a://emr-data-sync/segment-logs/61pktWj9yLj7tBBUBPUCCf/1685059200000, s3a://emr-data-sync/segment-logs/61pktWj9yLj7tBBUBPUCCf/1685145600000, s3a://emr-data-sync/segment-logs/61pktWj9yLj7tBBUBPUCCf/1685318400000, s3a://emr-data-sync/segment-logs/61pktWj9yLj7tBBUBPU...\n",
      "s3a://emr-data-sync/segment-logs/61pktWj9yLj7tBBUBPUCCf/1684454400000\n",
      "s3a://emr-data-sync/segment-logs/61pktWj9yLj7tBBUBPUCCf/1684540800000\n",
      "s3a://emr-data-sync/segment-logs/61pktWj9yLj7tBBUBPUCCf/1684627200000\n",
      "s3a://emr-data-sync/segment-logs/61pktWj9yLj7tBBUBPUCCf/1684713600000\n",
      "s3a://emr-data-sync/segment-logs/61pktWj9yLj7tBBUBPUCCf/1684800000000\n",
      "s3a://emr-data-sync/segment-logs/61pktWj9yLj7tBBUBPUCCf/1684886400000\n",
      "s3a://emr-data-sync/segment-logs/61pktWj9yLj7tBBUBPUCCf/1684972800000\n",
      "s3a://emr-data-sync/segment-logs/61pktWj9yLj7tBBUBPUCCf/1685059200000\n",
      "s3a://emr-data-sync/segment-logs/61pktWj9yLj7tBBUBPUCCf/1685145600000\n",
      "s3a://emr-data-sync/segment-logs/61pktWj9yLj7tBBUBPUCCf/1685318400000\n",
      "s3a://emr-data-sync/segment-logs/61pktWj9yLj7tBBUBPUCCf/1685404800000\n",
      "s3a://emr-data-sync/segment-logs/61pktWj9yLj7tBBUBPUCCf/1685491200000\n",
      "s3a://emr-data-sync/segment-logs/61pktWj9yLj7tBBUBPUCCf/1685577600000\n",
      "s3a://emr-data-sync/segment-logs/61pktWj9yLj7tBBUBPUCCf/1685664000000\n",
      "s3a://emr-data-sync/segment-logs/61pktWj9yLj7tBBUBPUCCf/1685750400000\n",
      "s3a://emr-data-sync/segment-logs/61pktWj9yLj7tBBUBPUCCf/1685836800000\n",
      "s3a://emr-data-sync/segment-logs/61pktWj9yLj7tBBUBPUCCf/1685923200000\n",
      "s3a://emr-data-sync/segment-logs/61pktWj9yLj7tBBUBPUCCf/1686009600000\n",
      "s3a://emr-data-sync/segment-logs/61pktWj9yLj7tBBUBPUCCf/1686096000000\n",
      "s3a://emr-data-sync/segment-logs/61pktWj9yLj7tBBUBPUCCf/1686182400000\n",
      "s3a://emr-data-sync/segment-logs/61pktWj9yLj7tBBUBPUCCf/1686268800000\n"
     ]
    }
   ],
   "source": [
    "val bucket = \"emr-data-sync/\"\n",
    "val key = \"segment-logs/61pktWj9yLj7tBBUBPUCCf\"\n",
    "\n",
    "val directories = get_s3_directories(\"s3a://\" + bucket + key)\n",
    "\n",
    "directories.foreach(\n",
    "    directory => \n",
    "    {\n",
    "        println(directory)\n",
    "        val partition_0 = directory.split(\"/\").last\n",
    "        val df = spark.read.text(directory + \"/*.gz\").withColumn(\"partition_0\", lit(partition_0))\n",
    "        val df_segment_log = src_to_segment_log(df)\n",
    "        val df_segment_log_session = segment_log_to_segment_log_session(df_segment_log)\n",
    "\n",
    "        save_to_redshift(df_segment_log, \"segment_log\")\n",
    "        save_to_redshift(df_segment_log_session, \"segment_log_session\")\n",
    "    }\n",
    ")"
   ]
  },
  {
   "cell_type": "code",
   "execution_count": 40,
   "id": "e7ce7d93-f25f-4b16-8a9d-27635f180310",
   "metadata": {
    "execution": {
     "iopub.execute_input": "2023-11-27T09:37:25.355711Z",
     "iopub.status.busy": "2023-11-27T09:37:25.355478Z",
     "iopub.status.idle": "2023-11-27T09:37:30.646944Z",
     "shell.execute_reply": "2023-11-27T09:37:30.646309Z",
     "shell.execute_reply.started": "2023-11-27T09:37:25.355687Z"
    },
    "tags": []
   },
   "outputs": [
    {
     "data": {
      "application/vnd.jupyter.widget-view+json": {
       "model_id": "40e669ebdd9f430ab6d2aa616a13299c",
       "version_major": 2,
       "version_minor": 0
      },
      "text/plain": [
       "VBox()"
      ]
     },
     "metadata": {},
     "output_type": "display_data"
    },
    {
     "data": {
      "application/vnd.jupyter.widget-view+json": {
       "model_id": "",
       "version_major": 2,
       "version_minor": 0
      },
      "text/plain": [
       "FloatProgress(value=0.0, bar_style='info', description='Progress:', layout=Layout(height='25px', width='50%'),…"
      ]
     },
     "metadata": {},
     "output_type": "display_data"
    },
    {
     "name": "stdout",
     "output_type": "stream",
     "text": [
      "jdbcDF_log: org.apache.spark.sql.DataFrame = [anonymousid: string, context_useragent: string ... 27 more fields]\n",
      "+--------------------+--------------------+---------------+--------------+--------------------+--------------------+--------------------+---------------+--------------------+----------------------+----------------------+-----------------------------+-------------------------------+------------------------------+-------------------------------+--------------------------------+------------------------------+-------------------------------+------------------------+--------------------+--------------------+--------------------+-------+----------+-------+----------+-----+--------------------+-------------+\n",
      "|         anonymousid|   context_useragent|     context_ip|context_locale|    context_page_url|             context|           messageid|properties_path|     properties_page|properties_button_name|properties_action_name|properties_action_hospital_id|properties_action_hospital_name|properties_button_hospital_num|properties_button_hospital_name|properties_properties_hospitalid|properties_properties_pagename|properties_properties_routename|properties_properties_to|          properties|               event|           timestamp|     yw|       ywd|     ym|       ymd| type|              userid|  partition_0|\n",
      "+--------------------+--------------------+---------------+--------------+--------------------+--------------------+--------------------+---------------+--------------------+----------------------+----------------------+-----------------------------+-------------------------------+------------------------------+-------------------------------+--------------------------------+------------------------------+-------------------------------+------------------------+--------------------+--------------------+--------------------+-------+----------+-------+----------+-----+--------------------+-------------+\n",
      "|5940625e-3cce-4c7...|Mozilla/5.0 (Wind...|  118.40.134.62|         ko-KR|https://chasago.m...|{\"ip\":\"118.40.134...|ajs-next-09d69751...|              /|                null|                  null|                  null|                         null|                           null|                          null|                           null|                            null|                          null|                           null|                    null|{\"path\":\"/\",\"refe...|                null|2023-06-09 14:26:...|2023-23|2023-06-04|2023-06|2023-06-09| page|ccf2e6574e07fce85...|1686268800000|\n",
      "|e369ddd3-bf12-449...|Mozilla/5.0 (Wind...|211.216.221.207|         ko-KR|https://chasago.m...|{\"ip\":\"211.216.22...|ajs-next-741b51c4...|              /|                null|                  null|                  null|                         null|                           null|                          null|                           null|                            null|                          null|                           null|                    null|{\"path\":\"/\",\"refe...|                null|2023-06-09 14:29:...|2023-23|2023-06-04|2023-06|2023-06-09| page|1c735fd350543065b...|1686268800000|\n",
      "|d8537f3c-147b-403...|Mozilla/5.0 (iPho...|    14.58.64.35|         en-US|https://chasago.m...|{\"ip\":\"14.58.64.3...|ajs-next-00165d6b...|           null|{\"name\":\"hospital...|?? ?? ? ?? ??|                  null|                         null|                           null|                          null|                           null|                            null|                          null|                           null|                    null|{\"button\":{\"name\"...|  click search again|2023-06-09 14:34:...|2023-23|2023-06-04|2023-06|2023-06-09|track|d63a1f1da4384bf48...|1686268800000|\n",
      "|d8537f3c-147b-403...|Mozilla/5.0 (iPho...|    14.58.64.35|         en-US|https://chasago.m...|{\"ip\":\"14.58.64.3...|ajs-next-7e160fe8...|           null|{\"name\":\"hospital...|                  null|      ??? ?? ??|             MEDICAR_1dfd06d3|                     ?????|                          null|                           null|                            null|                          null|                           null|                    null|{\"action\":{\"hospi...| view hospital cards|2023-06-09 14:34:...|2023-23|2023-06-04|2023-06|2023-06-09|track|d63a1f1da4384bf48...|1686268800000|\n",
      "|d8537f3c-147b-403...|Mozilla/5.0 (iPho...|    14.58.64.35|         en-US|https://chasago.m...|{\"ip\":\"14.58.64.3...|ajs-next-11e284b0...|           null|{\"name\":\"hospital...|                  null|      ??? ?? ??|             MEDICAR_c336346c|                     ?????|                          null|                           null|                            null|                          null|                           null|                    null|{\"action\":{\"hospi...| view hospital cards|2023-06-09 14:34:...|2023-23|2023-06-04|2023-06|2023-06-09|track|d63a1f1da4384bf48...|1686268800000|\n",
      "|d8537f3c-147b-403...|Mozilla/5.0 (iPho...|    14.58.64.35|         en-US|https://chasago.m...|{\"ip\":\"14.58.64.3...|ajs-next-1b129673...|           null|{\"name\":\"hospital...|      ??? ?? ??|                  null|                         null|                           null|              MEDICAR_1fc5309c|                       ????|                            null|                          null|                           null|                    null|{\"button\":{\"hospi...|        click marker|2023-06-09 14:34:...|2023-23|2023-06-04|2023-06|2023-06-09|track|d63a1f1da4384bf48...|1686268800000|\n",
      "|b82ba14a-f4c0-43a...|Mozilla/5.0 (iPho...|   104.28.68.27|         ko-KR|https://chasago.m...|{\"ip\":\"104.28.68....|ajs-next-b5ca28eb...|           null|{\"name\":\"hospital...|                  null|   ??/?? ?? ??|                         null|                           null|                          null|                           null|                            null|                          null|                           null|                    null|{\"action\":{\"name\"...|swipe hospital cards|2023-06-09 14:03:...|2023-23|2023-06-04|2023-06|2023-06-09|track|                null|1686268800000|\n",
      "|75361615-cffc-461...|Mozilla/5.0 (Wind...| 121.175.40.158|         ko-KR|https://chasago.m...|{\"ip\":\"121.175.40...|ajs-next-641147f7...|           null|{\"name\":\"hospital...|                  null|   ??/?? ?? ??|                         null|                           null|                          null|                           null|                            null|                          null|                           null|                    null|{\"action\":{\"name\"...|swipe hospital cards|2023-06-09 14:07:...|2023-23|2023-06-04|2023-06|2023-06-09|track|                null|1686268800000|\n",
      "|b1665867-75b6-436...|Mozilla/5.0 (Wind...|  220.87.94.143|         ko-KR|https://chasago.m...|{\"ip\":\"220.87.94....|ajs-next-fc675e4d...|           null|{\"name\":\"hospital...|                  null|   ??/?? ?? ??|                         null|                           null|                          null|                           null|                            null|                          null|                           null|                    null|{\"action\":{\"name\"...|swipe hospital cards|2023-06-09 14:08:...|2023-23|2023-06-04|2023-06|2023-06-09|track|0ae2d49d8221cf65e...|1686268800000|\n",
      "|b1665867-75b6-436...|Mozilla/5.0 (Wind...|  220.87.94.143|         ko-KR|https://chasago.m...|{\"ip\":\"220.87.94....|ajs-next-a271d206...|           null|{\"name\":\"hospital...|                  null|   ??/?? ?? ??|                         null|                           null|                          null|                           null|                            null|                          null|                           null|                    null|{\"action\":{\"name\"...|swipe hospital cards|2023-06-09 14:08:...|2023-23|2023-06-04|2023-06|2023-06-09|track|0ae2d49d8221cf65e...|1686268800000|\n",
      "|cc2159e8-0684-4b0...|Mozilla/5.0 (Linu...|   118.235.15.1|         ko-KR|https://chasago.m...|{\"ip\":\"118.235.15...|ajs-next-84537ac7...|              /|                null|                  null|                  null|                         null|                           null|                          null|                           null|                            null|                          null|                           null|                    null|{\"path\":\"/\",\"refe...|                null|2023-06-09 14:08:...|2023-23|2023-06-04|2023-06|2023-06-09| page|73e4a033cc301a308...|1686268800000|\n",
      "|d1ed4573-40a1-45e...|Mozilla/5.0 (Linu...| 106.245.68.174|         ko-KR|https://chasago.m...|{\"campaign\":{},\"i...|ajs-next-bf80f3dd...|           null|{\"name\":\"insurance\"}|        ?? ?? ??|                  null|                         null|                           null|                          null|                           null|                            null|                          null|                           null|                    null|{\"button\":{\"name\"...|click next on ins...|2023-06-09 14:10:...|2023-23|2023-06-04|2023-06|2023-06-09|track|                null|1686268800000|\n",
      "|e824f3af-0b46-415...|Mozilla/5.0 (iPho...|    14.58.64.35|         en-US|http://localhost:...|{\"ip\":\"14.58.64.3...|ajs-next-dc37d9a1...|           null|{\"name\":\"hospital...|                  null|      ??? ?? ??|             MEDICAR_c336346c|                     ?????|                          null|                           null|                            null|                          null|                           null|                    null|{\"action\":{\"hospi...| view hospital cards|2023-06-09 14:18:...|2023-23|2023-06-04|2023-06|2023-06-09|track|                null|1686268800000|\n",
      "|d46fdfe6-48c1-493...|Mozilla/5.0 (Wind...|121.188.104.204|            ko|https://chasago.m...|{\"ip\":\"121.188.10...|ajs-next-aa44ed47...|              /|                null|                  null|                  null|                         null|                           null|                          null|                           null|                            null|                          null|                           null|                    null|{\"path\":\"/\",\"refe...|                null|2023-06-09 14:20:...|2023-23|2023-06-04|2023-06|2023-06-09| page|ac33adfc1d9ee1316...|1686268800000|\n",
      "|885f5753-a47b-443...|Mozilla/5.0 (iPho...| 223.39.206.133|         ko-KR|https://chasago.m...|{\"ip\":\"223.39.206...|ajs-next-c35d8898...|              /|                null|                  null|                  null|                         null|                           null|                          null|                           null|                            null|                          null|                           null|                    null|{\"path\":\"/\",\"refe...|                null|2023-06-09 14:21:...|2023-23|2023-06-04|2023-06|2023-06-09| page|5a47230b17610fb02...|1686268800000|\n",
      "|eba286fa-fe1d-48c...|Mozilla/5.0 (iPho...|  172.226.95.47|         ko-KR|https://chasago.m...|{\"ip\":\"172.226.95...|ajs-next-9e6b9c13...|           null|{\"name\":\"hospital...|                  null|   ??/?? ?? ??|                         null|                           null|                          null|                           null|                            null|                          null|                           null|                    null|{\"action\":{\"name\"...|swipe hospital cards|2023-06-09 14:22:...|2023-23|2023-06-04|2023-06|2023-06-09|track|3ad7ccd9b0dce63f6...|1686268800000|\n",
      "|641101d9-dad3-4f0...|Mozilla/5.0 (iPho...|  223.38.28.132|         ko-KR|https://chasago.m...|{\"ip\":\"223.38.28....|ajs-next-034f0292...|           null|{\"name\":\"hospital...|                  null|   ??/?? ?? ??|                         null|                           null|                          null|                           null|                            null|                          null|                           null|                    null|{\"action\":{\"name\"...|swipe hospital cards|2023-06-09 14:23:...|2023-23|2023-06-04|2023-06|2023-06-09|track|4809b364759f6fa2b...|1686268800000|\n",
      "|7f0a5470-48a5-4a0...|Mozilla/5.0 (Maci...|210.179.106.221|         ko-KR|https://chasago.m...|{\"campaign\":{},\"i...|ajs-next-c7f57c9c...|           null|   {\"name\":\"driver\"}| ??? ?? ?? ??|                  null|                         null|                           null|                          null|                           null|                            null|                          null|                           null|                    null|{\"button\":{\"name\"...|click next on dri...|2023-06-09 14:23:...|2023-23|2023-06-04|2023-06|2023-06-09|track|6fd3b9e5a673b5a17...|1686268800000|\n",
      "|0f15d38c-2188-475...|Mozilla/5.0 (Linu...|  61.78.191.227|         ko-KR|https://chasago.m...|{\"ip\":\"61.78.191....|ajs-next-6c15a0ab...|           null|     {\"name\":\"home\"}|         ?? ????|                  null|                         null|                           null|                          null|                           null|                            null|                          null|                           null|                    null|{\"button\":{\"name\"...|click start calcu...|2023-06-09 14:27:...|2023-23|2023-06-04|2023-06|2023-06-09|track|                null|1686268800000|\n",
      "|48963e14-1c01-4a1...|Mozilla/5.0 (Linu...| 218.52.235.119|         ko-KR|https://chasago.m...|{\"campaign\":{},\"i...|ajs-next-fe4a00f5...|           null|{\"name\":\"insurance\"}|        ?? ?? ??|                  null|                         null|                           null|                          null|                           null|                            null|                          null|                           null|                    null|{\"button\":{\"name\"...|click next on ins...|2023-06-09 14:27:...|2023-23|2023-06-04|2023-06|2023-06-09|track|                null|1686268800000|\n",
      "+--------------------+--------------------+---------------+--------------+--------------------+--------------------+--------------------+---------------+--------------------+----------------------+----------------------+-----------------------------+-------------------------------+------------------------------+-------------------------------+--------------------------------+------------------------------+-------------------------------+------------------------+--------------------+--------------------+--------------------+-------+----------+-------+----------+-----+--------------------+-------------+\n",
      "only showing top 20 rows\n",
      "\n"
     ]
    }
   ],
   "source": [
    "val jdbcDF_log = spark.read.format(\"io.github.spark_redshift_community.spark.redshift\").\n",
    "  option(\"url\", str_jdbc_url).\n",
    "  option(\"dbtable\", \"segment_log\").\n",
    "  option(\"tempdir\", str_s3_path).\n",
    "  option(\"forward_spark_s3_credentials\", \"true\").\n",
    "  load()\n",
    "\n",
    "\n",
    "jdbcDF_log.show()"
   ]
  },
  {
   "cell_type": "code",
   "execution_count": 41,
   "id": "5fec5fbc-f2c7-4c72-8154-21e261dd704f",
   "metadata": {
    "execution": {
     "iopub.execute_input": "2023-11-27T09:37:44.639487Z",
     "iopub.status.busy": "2023-11-27T09:37:44.639260Z",
     "iopub.status.idle": "2023-11-27T09:37:46.912963Z",
     "shell.execute_reply": "2023-11-27T09:37:46.912380Z",
     "shell.execute_reply.started": "2023-11-27T09:37:44.639461Z"
    },
    "tags": []
   },
   "outputs": [
    {
     "data": {
      "application/vnd.jupyter.widget-view+json": {
       "model_id": "a05cdd48a2c944aebb245973b835400a",
       "version_major": 2,
       "version_minor": 0
      },
      "text/plain": [
       "VBox()"
      ]
     },
     "metadata": {},
     "output_type": "display_data"
    },
    {
     "data": {
      "application/vnd.jupyter.widget-view+json": {
       "model_id": "",
       "version_major": 2,
       "version_minor": 0
      },
      "text/plain": [
       "FloatProgress(value=0.0, bar_style='info', description='Progress:', layout=Layout(height='25px', width='50%'),…"
      ]
     },
     "metadata": {},
     "output_type": "display_data"
    },
    {
     "name": "stdout",
     "output_type": "stream",
     "text": [
      "jdbcDF_log_session: org.apache.spark.sql.DataFrame = [session_id: string, anonymousid: string ... 2 more fields]\n",
      "+--------------------+--------------------+--------------------+---------------------+\n",
      "|          session_id|         anonymousid|    session_start_at|next_session_start_at|\n",
      "+--------------------+--------------------+--------------------+---------------------+\n",
      "|6cf9264f-d613-463...|6cf9264f-d613-463...|2023-05-19 16:03:...|                 null|\n",
      "|f84d1075-86dd-4f4...|f84d1075-86dd-4f4...|2023-05-19 16:04:...| 2023-05-19 17:26:...|\n",
      "|f84d1075-86dd-4f4...|f84d1075-86dd-4f4...|2023-05-19 17:26:...|                 null|\n",
      "|9c1fb78e-bba5-4de...|9c1fb78e-bba5-4de...|2023-05-19 19:31:...|                 null|\n",
      "|a62b87e4-d13d-492...|a62b87e4-d13d-492...|2023-05-19 20:30:...|                 null|\n",
      "|9347d745-6b03-498...|9347d745-6b03-498...|2023-05-19 15:42:...| 2023-05-19 16:53:...|\n",
      "|9347d745-6b03-498...|9347d745-6b03-498...|2023-05-19 16:53:...|                 null|\n",
      "|a9b3fc16-6b76-4fa...|a9b3fc16-6b76-4fa...|2023-05-19 15:54:...|                 null|\n",
      "|c595ffff-79f4-4ed...|c595ffff-79f4-4ed...|2023-05-19 15:41:...|                 null|\n",
      "|66687766-1fa7-467...|66687766-1fa7-467...|2023-05-19 15:51:...|                 null|\n",
      "|d8537f3c-147b-403...|d8537f3c-147b-403...|2023-05-19 15:34:...| 2023-05-19 16:33:...|\n",
      "|d8537f3c-147b-403...|d8537f3c-147b-403...|2023-05-19 16:33:...|                 null|\n",
      "|34c4bab5-5897-449...|34c4bab5-5897-449...|2023-05-19 15:55:...|                 null|\n",
      "|27a56040-aa7d-47b...|27a56040-aa7d-47b...|2023-05-20 13:19:...|                 null|\n",
      "|84c03ddd-4e05-4f9...|84c03ddd-4e05-4f9...|2023-05-22 07:00:...|                 null|\n",
      "|1d5a87c8-9790-4c3...|1d5a87c8-9790-4c3...|2023-05-21 21:19:...|                 null|\n",
      "|d05e0fd0-f34e-437...|d05e0fd0-f34e-437...|2023-05-22 17:30:...|                 null|\n",
      "|6dc4f404-d856-40d...|6dc4f404-d856-40d...|2023-05-22 10:11:...|                 null|\n",
      "|d3921d39-013d-49c...|d3921d39-013d-49c...|2023-05-22 10:09:...|                 null|\n",
      "|ea4ab739-28bc-4c3...|ea4ab739-28bc-4c3...|2023-05-22 10:11:...|                 null|\n",
      "+--------------------+--------------------+--------------------+---------------------+\n",
      "only showing top 20 rows\n",
      "\n"
     ]
    }
   ],
   "source": [
    "val jdbcDF_log_session = spark.read.format(\"io.github.spark_redshift_community.spark.redshift\").\n",
    "  option(\"url\", str_jdbc_url).\n",
    "  option(\"dbtable\", \"segment_log_session\").\n",
    "  option(\"tempdir\", str_s3_path).\n",
    "  option(\"forward_spark_s3_credentials\", \"true\").\n",
    "  load()\n",
    "\n",
    "\n",
    "jdbcDF_log_session.show()"
   ]
  }
 ],
 "metadata": {
  "kernelspec": {
   "display_name": "Spark",
   "language": "scala",
   "name": "sparkkernel"
  },
  "language_info": {
   "codemirror_mode": "text/x-scala",
   "file_extension": ".sc",
   "mimetype": "text/x-scala",
   "name": "scala",
   "pygments_lexer": "scala"
  }
 },
 "nbformat": 4,
 "nbformat_minor": 5
}
