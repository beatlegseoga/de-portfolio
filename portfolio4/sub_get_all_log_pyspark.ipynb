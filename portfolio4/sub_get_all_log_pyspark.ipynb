{
 "cells": [
  {
   "cell_type": "code",
   "execution_count": null,
   "id": "e2d7e854-3aa2-49f9-a29b-d01a87d095e3",
   "metadata": {
    "execution": {
     "iopub.execute_input": "2023-11-21T03:57:50.788981Z",
     "iopub.status.busy": "2023-11-21T03:57:50.788653Z"
    },
    "tags": []
   },
   "outputs": [
    {
     "data": {
      "application/vnd.jupyter.widget-view+json": {
       "model_id": "86e4d05c26244566b8984068cb221733",
       "version_major": 2,
       "version_minor": 0
      },
      "text/plain": [
       "VBox()"
      ]
     },
     "metadata": {},
     "output_type": "display_data"
    },
    {
     "name": "stdout",
     "output_type": "stream",
     "text": [
      "Starting Spark application\n"
     ]
    }
   ],
   "source": [
    "spark.sparkContext.install_pypi_package(\"boto3\")\n",
    "\n",
    "from pyspark.sql.types import StructType, StructField, StringType, ArrayType\n",
    "from pyspark.sql.functions import *\n",
    "import boto3"
   ]
  },
  {
   "cell_type": "code",
   "execution_count": null,
   "id": "041fc8b4-d701-4b87-bf4b-84fc1692c85a",
   "metadata": {},
   "outputs": [],
   "source": [
    "schema1 = StructType(\n",
    "    [\n",
    "        StructField('anonymousId', StringType(), True),\n",
    "        StructField('context', StringType(), True),\n",
    "        StructField('messageId', StringType(), True),\n",
    "        StructField('properties', StringType(), True),\n",
    "        StructField('event', StringType(), True),\n",
    "        StructField('timestamp', StringType(), True),\n",
    "        StructField('type', StringType(), True),\n",
    "        StructField('userId', StringType(), True),\n",
    "    ]\n",
    ")\n",
    "\n",
    "schema2 = StructType(\n",
    "    [\n",
    "        StructField('userAgent', StringType(), True),\n",
    "        StructField('ip', StringType(), True),\n",
    "        StructField('locale', StringType(), True),\n",
    "        StructField('page', StringType(), True)\n",
    "    ]\n",
    ")\n",
    "\n",
    "schema3 = StructType(\n",
    "    [\n",
    "        StructField('url', StringType(), True)\n",
    "    ]\n",
    ")\n",
    "\n",
    "schema4 = StructType(\n",
    "    [\n",
    "        StructField('path', StringType(), True),\n",
    "        StructField('page', StringType(), True),\n",
    "        StructField('button', StringType(), True),\n",
    "        StructField('action', StringType(), True),\n",
    "        StructField('properties', StringType(), True)\n",
    "    ]\n",
    ")\n",
    "\n",
    "schema5 = StructType(\n",
    "    [\n",
    "        StructField('name', StringType(), True),\n",
    "        StructField('hospital', ArrayType(StringType()), True)\n",
    "    ]\n",
    ")\n",
    "\n",
    "schema6 = StructType(\n",
    "    [\n",
    "        StructField('hospitalId', StringType(), True),\n",
    "        StructField('pageName', StringType(), True),\n",
    "        StructField('routeName', StringType(), True),\n",
    "        StructField('to', StringType(), True)\n",
    "    ]\n",
    ")"
   ]
  },
  {
   "cell_type": "code",
   "execution_count": null,
   "id": "69f66520-221e-42e5-bd34-dbb7cf355ad5",
   "metadata": {},
   "outputs": [],
   "source": [
    "def src_to_segment_log(df):\n",
    "    df.withColumn(\"schema1\", from_json(\"value\", schema1))\\\n",
    "        .select(col('schema1.*'))\\\n",
    "        .withColumn(\"context\", from_json(\"context\", schema2))\\\n",
    "        .select(col('anonymousId'), col('context.*'), col('context'), col('messageId'), col('properties'), col('event')\\\n",
    "                , col('timestamp'), col('type'), col('userId'))\\\n",
    "        .withColumn(\"page\", from_json(\"page\", schema3))\\\n",
    "        .withColumn('context_useragent', col('userAgent'))\\\n",
    "        .withColumn('context_ip', col('ip'))\\\n",
    "        .withColumn('context_locale', col('locale'))\\\n",
    "        .withColumn(\"properties_\", col('properties'))\\\n",
    "        .select(col('anonymousId'), col('context_useragent'), col('context_ip'), col('context_locale'), col('page.*'), col('context')\\\n",
    "                , col('messageId'), col('properties_'), col('event'), col('timestamp'), col('type'), col('userId'))\\\n",
    "        .withColumn(\"properties_\", from_json(\"properties_\", schema4))\\\n",
    "        .withColumn('context_page_url', col('url'))\\\n",
    "        .select(col('anonymousId'), col('context_useragent'), col('context_ip'), col('context_locale'), col('context_page_url'), col('context')\\\n",
    "                , col('messageId'), col('properties_.*'), col('properties_'), col('event'), col('timestamp'), col('type'), col('userId'))\\\n",
    "        .withColumn(\"button\", from_json(\"button\", schema5))\\\n",
    "        .withColumn('properties_path', col('path'))\\\n",
    "        .withColumn('properties_page', col('page'))\\\n",
    "        .select(col('anonymousId'), col('context_useragent'), col('context_ip'), col('context_locale'), col('context_page_url'), col('context')\\\n",
    "                , col('messageId'), col('properties_path'), col('properties_page'), col('button.*'), col('action'), col('properties')\\\n",
    "                , col('properties_'), col('event'), col('timestamp'), col('type'), col('userId'))\\\n",
    "        .withColumn(\"properties_button_hospital_num\", col('hospital').getItem(0))\\\n",
    "        .withColumn('properties_button_hospital_name', col('hospital').getItem(1))\\\n",
    "        .withColumn('properties_button_name', col('name'))\\\n",
    "        .drop(col('button'), col('hospital'), col('name'))\\\n",
    "        .withColumn(\"action\", from_json(\"action\", schema5))\\\n",
    "        .select(col('anonymousId'), col('context_useragent'), col('context_ip'), col('context_locale'), col('context_page_url'), col('context')\\\n",
    "                , col('messageId'), col('properties_path'), col('properties_page'), col('properties_button_name')\\\n",
    "                , col('properties_button_hospital_num'), col('properties_button_hospital_name'), col('action.*'), col('properties')\\\n",
    "                , col('properties_'), col('event'), col('timestamp'), col('type'), col('userId'))\\\n",
    "        .withColumn(\"properties_action_hospital_id\", col('hospital').getItem(0))\\\n",
    "        .withColumn('properties_action_hospital_name', col('hospital').getItem(1))\\\n",
    "        .withColumn('properties_action_name', col('name'))\\\n",
    "        .drop(col('action'), col('hospital'), col('name'))\\\n",
    "        .withColumn(\"properties\", from_json(\"properties\", schema6))\\\n",
    "        .select(col('anonymousId'), col('context_useragent'), col('context_ip'), col('context_locale'), col('context_page_url'), col('context')\\\n",
    "                , col('messageId'), col('properties_path'), col('properties_page'), col('properties_button_name'), col('properties_action_name')\\\n",
    "                , col('properties_action_hospital_id'), col('properties_action_hospital_name')\\\n",
    "                , col('properties_button_hospital_num'), col('properties_button_hospital_name')\\\n",
    "                , col('properties.*'), col('properties_'), col('event'), col('timestamp'), col('type'), col('userId'))\\\n",
    "        .withColumn(\"properties_properties_hospitalid\", col('hospitalId')).withColumn(\"properties_properties_pagename\", col('pageName'))\\\n",
    "        .withColumn(\"properties_properties_routename\", col('routeName')).withColumn(\"properties_properties_to\", col('to'))\\\n",
    "        .withColumn(\"properties\", col('properties_'))\\\n",
    "        .drop(col('hospitalId'), col('pageName'), col('routeName'), col('to'), col('properties_'))\\\n",
    "        .withColumn('timestamp', to_timestamp(col('timestamp'), \"yyyy-MM-dd'T'HH:mm:ss.SSS'Z'\"))\\\n",
    "        .withColumn('yw', concat(year(date_add(from_utc_timestamp(col('timestamp'), 'Asia/Seoul'), 1)), lit('-')\\\n",
    "                                 , lpad(weekofyear(date_add(from_utc_timestamp(col('timestamp'), 'Asia/Seoul'), 1)), 2, '0')))\n",
    "    \n",
    "    df.createOrReplaceTempView(\"df\")\n",
    "    df_segment_log = spark.sql(f\"\"\"\n",
    "        SELECT anonymousId, context_useragent, context_ip, context_locale, context_page_url, context,\n",
    "        messageId, properties_path, properties_page, properties_button_name, properties_action_name, properties_action_hospital_id,\n",
    "        properties_action_hospital_name, properties_button_hospital_num, properties_button_hospital_name, properties_properties_hospitalid,\n",
    "        properties_properties_pagename, properties_properties_routename, properties_properties_to, properties,\n",
    "        event, from_utc_timestamp(timestamp, 'Asia/Seoul') AS timestamp,\n",
    "        yw,\n",
    "        date_add(date_trunc('week', date_add(from_utc_timestamp(timestamp, 'Asia/Seoul'), 1)), -1) AS ywd,\n",
    "        date_format(from_utc_timestamp(timestamp, 'Asia/Seoul'), 'yyyy-MM') AS ym,\n",
    "        date_format(from_utc_timestamp(timestamp, 'Asia/Seoul'), 'yyyy-MM-dd') AS ymd,\n",
    "        type, userId\n",
    "        FROM df\n",
    "    \"\"\")\n",
    "    \n",
    "    return df_segment_log"
   ]
  },
  {
   "cell_type": "code",
   "execution_count": null,
   "id": "274bfe4a-d812-46c3-a587-28d263ba8373",
   "metadata": {},
   "outputs": [],
   "source": [
    "def segment_log_to_segment_log_session(df_segment_log):\n",
    "    df_segment_log.createOrReplaceTempView(\"df_segment_log\")\n",
    "    df_segment_log_session = spark.sql(\"\"\"\n",
    "        SELECT\n",
    "            event.anonymousid || '-' || row_number() over(partition by event.anonymousid order by event.timestamp) as session_id,\n",
    "            event.anonymousid,\n",
    "            event.timestamp as session_start_at,\n",
    "            lead(timestamp) over(partition by event.anonymousid order by event.timestamp) as next_session_start_at\n",
    "        FROM (\n",
    "            SELECT\n",
    "                e.anonymousid,\n",
    "                e.timestamp,\n",
    "                DATEDIFF(minute, LAG(e.timestamp) OVER(PARTITION BY e.anonymousid ORDER BY e.timestamp), e.timestamp) AS inactivity_time\n",
    "            FROM df_segment_log AS e) as event\n",
    "        WHERE (event.inactivity_time > 30 OR event.inactivity_time is null)\n",
    "    \"\"\")\n",
    "    \n",
    "    return df_segment_log_session"
   ]
  },
  {
   "cell_type": "code",
   "execution_count": null,
   "id": "2bbb373f-6e40-46c2-ada5-4a4fcbac99db",
   "metadata": {},
   "outputs": [],
   "source": [
    "def get_s3_directories(prefix):\n",
    "    global s3, bucket_name\n",
    "\n",
    "    response = s3.list_objects(Bucket=bucket_name, Prefix=prefix, Delimiter='/')\n",
    "    pre_list = []\n",
    "    for content in response.get('CommonPrefixes', []):\n",
    "        pre_list.append(content.get('Prefix')[:-1])\n",
    "    \n",
    "    return pre_list\n"
   ]
  },
  {
   "cell_type": "code",
   "execution_count": null,
   "id": "6bb13e64-5559-4f27-8260-3b8327cdcf2e",
   "metadata": {},
   "outputs": [],
   "source": [
    "s3 = boto3.client('s3', region_name='ap-northeast-2')\n",
    "bucket_name = 'emr-data-sync'\n",
    "prefix = \"segment-logs\"\n",
    "\n",
    "directories = get_s3_directories(\"s3a://\" + bucket_name + prefix)\n",
    "\n",
    "for directory in directories:\n",
    "    folders = get_s3_directories(\"s3a://\" + bucket_name + directory)\n",
    "    for folder in folders:\n",
    "        print(folder)\n",
    "        partition_0 = folder.split(\"/\")[-1]\n",
    "        df = spark.read.text(\"s3a://\" + bucket_name + folder + \"/*.gz\").withColumn(\"partition_0\", lit(partition_0))        \n",
    "        df_segment_log = src_to_segment_log(df)\n",
    "        df_segment_log_session = segment_log_to_segment_log_session(df_segment_log)\n",
    "        \n",
    "        df_segment_log.show()\n",
    "        df_segment_log_session.show()"
   ]
  }
 ],
 "metadata": {
  "kernelspec": {
   "display_name": "PySpark",
   "language": "python",
   "name": "pysparkkernel"
  },
  "language_info": {
   "codemirror_mode": {
    "name": "python",
    "version": 3
   },
   "file_extension": ".py",
   "mimetype": "text/x-python",
   "name": "pyspark",
   "pygments_lexer": "python3"
  }
 },
 "nbformat": 4,
 "nbformat_minor": 5
}
